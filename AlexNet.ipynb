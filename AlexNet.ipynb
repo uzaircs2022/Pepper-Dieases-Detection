{
  "nbformat": 4,
  "nbformat_minor": 0,
  "metadata": {
    "colab": {
      "name": "AlexNet.ipynb",
      "provenance": [],
      "collapsed_sections": []
    },
    "kernelspec": {
      "display_name": "Python 3",
      "name": "python3"
    },
    "language_info": {
      "name": "python"
    }
  },
  "cells": [
    {
      "cell_type": "code",
      "metadata": {
        "colab": {
          "base_uri": "https://localhost:8080/"
        },
        "id": "Esf-KP_q0O_1",
        "outputId": "d4949b6d-a074-4a79-d214-b5f8e262a0bd"
      },
      "source": [
        "from google.colab import drive\n",
        "drive.mount('/content/drive', force_remount=True)"
      ],
      "execution_count": null,
      "outputs": [
        {
          "output_type": "stream",
          "text": [
            "Mounted at /content/drive\n"
          ],
          "name": "stdout"
        }
      ]
    },
    {
      "cell_type": "code",
      "metadata": {
        "colab": {
          "base_uri": "https://localhost:8080/"
        },
        "id": "4fB3BgWO0XzZ",
        "outputId": "3077e91c-91f7-413a-bdc2-ca4aa812c3c3"
      },
      "source": [
        "import tensorflow as tf\n",
        "from tensorflow import keras\n",
        "import numpy as np\n",
        "import pathlib\n",
        "import datetime\n",
        "import cv2\n",
        "import matplotlib.pyplot as plt\n",
        "\n",
        "\n",
        "# printout versions\n",
        "print(f\"Tensor Flow Version: {tf.__version__}\")\n",
        "print(f\"numpy Version: {np.version.version}\")"
      ],
      "execution_count": null,
      "outputs": [
        {
          "output_type": "stream",
          "text": [
            "Tensor Flow Version: 2.5.0\n",
            "numpy Version: 1.19.5\n"
          ],
          "name": "stdout"
        }
      ]
    },
    {
      "cell_type": "code",
      "metadata": {
        "colab": {
          "base_uri": "https://localhost:8080/"
        },
        "id": "WkSPlexf0lwK",
        "outputId": "4e521cba-e166-4716-fb45-381354a96556"
      },
      "source": [
        "data_dir = pathlib.Path(\"/content/drive/My Drive/ML_Project/Train\")\n",
        "image_count = len(list(data_dir.glob('*/*.JPG')))\n",
        "print(image_count)\n",
        "# classnames in the dataset specified\n",
        "CLASS_NAMES = np.array([item.name for item in data_dir.glob('*') if item.name != \"LICENSE.txt\" ])\n",
        "print(CLASS_NAMES)\n",
        "# print length of class names\n",
        "output_class_units = len(CLASS_NAMES)\n",
        "print(output_class_units)"
      ],
      "execution_count": null,
      "outputs": [
        {
          "output_type": "stream",
          "text": [
            "2473\n",
            "['Pepper_Unhealthy' 'Pepper_Healthy']\n",
            "2\n"
          ],
          "name": "stdout"
        }
      ]
    },
    {
      "cell_type": "code",
      "metadata": {
        "id": "eqyN2uyw2Ot5"
      },
      "source": [
        "model = tf.keras.models.Sequential([\n",
        "    # 1st conv\n",
        "  tf.keras.layers.Conv2D(96, (11,11),strides=(4,4), activation='relu', input_shape=(227, 227, 3)),\n",
        "  tf.keras.layers.BatchNormalization(),\n",
        "  tf.keras.layers.MaxPooling2D(2, strides=(2,2)),\n",
        "    # 2nd conv\n",
        "  tf.keras.layers.Conv2D(256, (11,11),strides=(1,1), activation='relu',padding=\"same\"),\n",
        "  tf.keras.layers.BatchNormalization(),\n",
        "     # 3rd conv\n",
        "  tf.keras.layers.Conv2D(384, (3,3),strides=(1,1), activation='relu',padding=\"same\"),\n",
        "  tf.keras.layers.BatchNormalization(),\n",
        "    # 4th conv\n",
        "  tf.keras.layers.Conv2D(384, (3,3),strides=(1,1), activation='relu',padding=\"same\"),\n",
        "  tf.keras.layers.BatchNormalization(),\n",
        "    # 5th Conv\n",
        "  tf.keras.layers.Conv2D(256, (3, 3), strides=(1, 1), activation='relu',padding=\"same\"),\n",
        "  tf.keras.layers.BatchNormalization(),\n",
        "  tf.keras.layers.MaxPooling2D(2, strides=(2, 2)),\n",
        "  # To Flatten layer\n",
        "  tf.keras.layers.Flatten(),\n",
        "  # To FC layer 1\n",
        "  tf.keras.layers.Dense(4096, activation='relu'),\n",
        "    # add dropout 0.5 ==> tf.keras.layers.Dropout(0.5),\n",
        "  #To FC layer 2\n",
        "  tf.keras.layers.Dense(4096, activation='relu'),\n",
        "    # add dropout 0.5 ==> tf.keras.layers.Dropout(0.5),\n",
        "  tf.keras.layers.Dense(output_class_units, activation='softmax')\n",
        "])\n",
        "\n",
        "\n"
      ],
      "execution_count": null,
      "outputs": []
    },
    {
      "cell_type": "code",
      "metadata": {
        "colab": {
          "base_uri": "https://localhost:8080/"
        },
        "id": "VHAMLlMo2R-M",
        "outputId": "a24086a9-8168-4851-978d-938b499df9ab"
      },
      "source": [
        "BATCH_SIZE = 32             # Can be of size 2^n, but not restricted to. for the better utilization of memory\n",
        "IMG_HEIGHT = 227            # input Shape required by the model\n",
        "IMG_WIDTH = 227             # input Shape required by the model\n",
        "STEPS_PER_EPOCH = np.ceil(image_count/BATCH_SIZE)\n",
        "\n",
        "# Rescalingthe pixel values from 0~255 to 0~1 For RGB Channels of the image.\n",
        "image_generator = tf.keras.preprocessing.image.ImageDataGenerator(rescale=1./255)\n",
        "# training_data for model training\n",
        "train_data_gen = image_generator.flow_from_directory(directory=str(data_dir),\n",
        "                                                     batch_size=BATCH_SIZE,\n",
        "                                                     shuffle=True,\n",
        "                                                     target_size=(IMG_HEIGHT, IMG_WIDTH), #Resizing the raw dataset\n",
        "                                                     classes = list(CLASS_NAMES))"
      ],
      "execution_count": null,
      "outputs": [
        {
          "output_type": "stream",
          "text": [
            "Found 2475 images belonging to 2 classes.\n"
          ],
          "name": "stdout"
        }
      ]
    },
    {
      "cell_type": "code",
      "metadata": {
        "colab": {
          "base_uri": "https://localhost:8080/"
        },
        "id": "zxvVLSuD2rpT",
        "outputId": "c2f1db85-9e58-4bf1-b92b-c6e4fd2567a4"
      },
      "source": [
        "model.compile(optimizer='sgd', loss=\"categorical_crossentropy\", metrics=['accuracy'])\n",
        "\n",
        "# Summarizing the model architecture and printing it out\n",
        "model.summary()"
      ],
      "execution_count": null,
      "outputs": [
        {
          "output_type": "stream",
          "text": [
            "Model: \"sequential_1\"\n",
            "_________________________________________________________________\n",
            "Layer (type)                 Output Shape              Param #   \n",
            "=================================================================\n",
            "conv2d_5 (Conv2D)            (None, 55, 55, 96)        34944     \n",
            "_________________________________________________________________\n",
            "batch_normalization_5 (Batch (None, 55, 55, 96)        384       \n",
            "_________________________________________________________________\n",
            "max_pooling2d_2 (MaxPooling2 (None, 27, 27, 96)        0         \n",
            "_________________________________________________________________\n",
            "conv2d_6 (Conv2D)            (None, 27, 27, 256)       2973952   \n",
            "_________________________________________________________________\n",
            "batch_normalization_6 (Batch (None, 27, 27, 256)       1024      \n",
            "_________________________________________________________________\n",
            "conv2d_7 (Conv2D)            (None, 27, 27, 384)       885120    \n",
            "_________________________________________________________________\n",
            "batch_normalization_7 (Batch (None, 27, 27, 384)       1536      \n",
            "_________________________________________________________________\n",
            "conv2d_8 (Conv2D)            (None, 27, 27, 384)       1327488   \n",
            "_________________________________________________________________\n",
            "batch_normalization_8 (Batch (None, 27, 27, 384)       1536      \n",
            "_________________________________________________________________\n",
            "conv2d_9 (Conv2D)            (None, 27, 27, 256)       884992    \n",
            "_________________________________________________________________\n",
            "batch_normalization_9 (Batch (None, 27, 27, 256)       1024      \n",
            "_________________________________________________________________\n",
            "max_pooling2d_3 (MaxPooling2 (None, 13, 13, 256)       0         \n",
            "_________________________________________________________________\n",
            "flatten_1 (Flatten)          (None, 43264)             0         \n",
            "_________________________________________________________________\n",
            "dense_3 (Dense)              (None, 4096)              177213440 \n",
            "_________________________________________________________________\n",
            "dense_4 (Dense)              (None, 4096)              16781312  \n",
            "_________________________________________________________________\n",
            "dense_5 (Dense)              (None, 2)                 8194      \n",
            "=================================================================\n",
            "Total params: 200,114,946\n",
            "Trainable params: 200,112,194\n",
            "Non-trainable params: 2,752\n",
            "_________________________________________________________________\n"
          ],
          "name": "stdout"
        }
      ]
    },
    {
      "cell_type": "code",
      "metadata": {
        "id": "EvapdDyV2uzn"
      },
      "source": [
        "class myCallback(tf.keras.callbacks.Callback):\n",
        "    def on_epoch_end(self,epoch,logs={}):\n",
        "        if (logs.get(\"accuracy\")==1.00 and logs.get(\"loss\")<0.03):\n",
        "            print(\"\\nReached 100% accuracy so stopping training\")\n",
        "            self.model.stop_training =True\n",
        "callbacks = myCallback()\n",
        "\n",
        "# TensorBoard.dev Visuals\n",
        "log_dir=\"logs\\\\fit\\\\\" + datetime.datetime.now().strftime(\"%Y%m%d-%H%M%S\")\n",
        "tensorboard_callback = tf.keras.callbacks.TensorBoard(log_dir=log_dir, histogram_freq=1)"
      ],
      "execution_count": null,
      "outputs": []
    },
    {
      "cell_type": "code",
      "metadata": {
        "colab": {
          "base_uri": "https://localhost:8080/"
        },
        "id": "76FnxJnp29CU",
        "outputId": "af69d1f5-182b-43d8-ef34-ec89468a1753"
      },
      "source": [
        "history = model.fit(\n",
        "      train_data_gen,\n",
        "      steps_per_epoch=STEPS_PER_EPOCH,\n",
        "      epochs=50,\n",
        "      callbacks=[tensorboard_callback,callbacks])\n",
        "\n",
        "# Saving the model\n",
        "model.save('/content/drive/My Drive/ML_Project/Models/{NAME}.model')"
      ],
      "execution_count": null,
      "outputs": [
        {
          "output_type": "stream",
          "text": [
            "Epoch 1/50\n",
            "78/78 [==============================] - 1240s 16s/step - loss: 0.9238 - accuracy: 0.8400\n",
            "Epoch 2/50\n",
            "78/78 [==============================] - 1244s 16s/step - loss: 0.1084 - accuracy: 0.9608\n",
            "Epoch 3/50\n",
            "78/78 [==============================] - 1240s 16s/step - loss: 0.0388 - accuracy: 0.9899\n",
            "Epoch 4/50\n",
            "78/78 [==============================] - 1239s 16s/step - loss: 0.0221 - accuracy: 0.9956\n",
            "Epoch 5/50\n",
            "78/78 [==============================] - 1239s 16s/step - loss: 0.0151 - accuracy: 0.9964\n",
            "Epoch 6/50\n",
            "78/78 [==============================] - 1239s 16s/step - loss: 0.0051 - accuracy: 1.0000\n",
            "\n",
            "Reached 100% accuracy so stopping training\n",
            "INFO:tensorflow:Assets written to: /content/drive/My Drive/ML_Project/Models/{NAME}.model/assets\n"
          ],
          "name": "stdout"
        }
      ]
    },
    {
      "cell_type": "code",
      "metadata": {
        "colab": {
          "base_uri": "https://localhost:8080/",
          "height": 297
        },
        "id": "KMP7S09TiQbK",
        "outputId": "5d62524b-1a4c-4301-dbd6-3dd50a62a5d2"
      },
      "source": [
        "plt.figure(1)\n",
        "\n",
        "# summarize history for accuracy\n",
        "\n",
        "plt.subplot(211)\n",
        "plt.plot(history.history['accuracy'])\n",
        "plt.title('Model Accuracy')\n",
        "plt.ylabel('Accuracy')\n",
        "plt.xlabel('Epoch')\n",
        "plt.legend(['Training', 'Validation'], loc='lower right')\n",
        "\n",
        "# summarize history for loss\n",
        "\n",
        "plt.subplot(212)\n",
        "plt.plot(history.history['loss'])\n",
        "plt.title('Model Loss')\n",
        "plt.ylabel('Loss')\n",
        "plt.xlabel('Epoch')\n",
        "plt.legend(['Training', 'Validation'], loc='upper right')\n",
        "\n",
        "plt.tight_layout()\n",
        "\n",
        "plt.show()"
      ],
      "execution_count": null,
      "outputs": [
        {
          "output_type": "display_data",
          "data": {
            "image/png": "[encoded data removed]",
            "text/plain": [
              "<Figure size 432x288 with 2 Axes>"
            ]
          },
          "metadata": {
            "tags": [],
            "needs_background": "light"
          }
        }
      ]
    },
    {
      "cell_type": "code",
      "metadata": {
        "id": "xRY0s6E3q-aH"
      },
      "source": [
        "# def prepare(filepath):\n",
        "#     img_size = 100\n",
        "#     img = cv2.imread(filepath) \n",
        "#     img_resize = cv2.resize(img, (img_size, img_size))  \n",
        "#     return img_resize"
      ],
      "execution_count": null,
      "outputs": []
    },
    {
      "cell_type": "code",
      "metadata": {
        "id": "UYmZHNeVqtOr"
      },
      "source": [
        "# prediction = model.predict(\"/content/drive/My Drive/ML_Project/Test/Pepper_Healthy/Healthy1.JPG\")\n",
        "# print((prediction))\n",
        "\n",
        "# CATEGORIES = [\"healthy\", \"unhealthy\"]\n",
        "\n",
        "# pred_class = CATEGORIES[np.argmax(prediction)]\n",
        "# print(pred_class)"
      ],
      "execution_count": null,
      "outputs": []
    },
    {
      "cell_type": "code",
      "metadata": {
        "colab": {
          "base_uri": "https://localhost:8080/"
        },
        "id": "9R4GmGqgGblI",
        "outputId": "8b3e9cd8-d3cb-4e31-893e-c45ddf447807"
      },
      "source": [
        "import tensorflow as tf\n",
        "import numpy as np\n",
        "import pathlib\n",
        "import datetime\n",
        "# Raw Dataset Directory\n",
        "data_dir = pathlib.Path(\"/content/drive/My Drive/ML_Project/Test\")\n",
        "image_count = len(list(data_dir.glob('*/*.JPG')))\n",
        "# print total no of images for all classes\n",
        "print(image_count)\n",
        "# classnames in the dataset specified\n",
        "CLASS_NAMES = np.array([item.name for item in data_dir.glob('*') if item.name != \"LICENSE.txt\" ])\n",
        "# print list of all classes\n",
        "print(CLASS_NAMES)\n",
        "# print length of class names\n",
        "output_class_units = len(CLASS_NAMES)\n",
        "print(output_class_units)\n",
        "#preprocess the data\n",
        "BATCH_SIZE = 1             # Can be of size 2^n, but not restricted to. for the better utilization of memory\n",
        "IMG_HEIGHT = 227            # input Shape required by the model\n",
        "IMG_WIDTH = 227             # input Shape required by the model\n",
        "\n",
        "image_generator = tf.keras.preprocessing.image.ImageDataGenerator(rescale=1./255)\n",
        "test_data_gen = image_generator.flow_from_directory(directory=str(data_dir),\n",
        "                                                     shuffle=True,\n",
        "                                                     target_size=(IMG_HEIGHT, IMG_WIDTH), #Resizing the raw dataset\n",
        "                                                     classes = list(CLASS_NAMES))\n",
        "#Loading the saved model\n",
        "new_model = tf.keras.models.load_model(\"/content/drive/My Drive/ML_Project/Models/{NAME}.model\")\n",
        "new_model.summary()\n",
        "loss, acc = new_model.evaluate(test_data_gen)\n",
        "print(\"accuracy:{:.2f}%\".format(acc*100))"
      ],
      "execution_count": null,
      "outputs": [
        {
          "output_type": "stream",
          "text": [
            "19\n",
            "['Pepper_Unhealthy' 'Pepper_Healthy']\n",
            "2\n",
            "Found 20 images belonging to 2 classes.\n",
            "Model: \"sequential_1\"\n",
            "_________________________________________________________________\n",
            "Layer (type)                 Output Shape              Param #   \n",
            "=================================================================\n",
            "conv2d_5 (Conv2D)            (None, 55, 55, 96)        34944     \n",
            "_________________________________________________________________\n",
            "batch_normalization_5 (Batch (None, 55, 55, 96)        384       \n",
            "_________________________________________________________________\n",
            "max_pooling2d_2 (MaxPooling2 (None, 27, 27, 96)        0         \n",
            "_________________________________________________________________\n",
            "conv2d_6 (Conv2D)            (None, 27, 27, 256)       2973952   \n",
            "_________________________________________________________________\n",
            "batch_normalization_6 (Batch (None, 27, 27, 256)       1024      \n",
            "_________________________________________________________________\n",
            "conv2d_7 (Conv2D)            (None, 27, 27, 384)       885120    \n",
            "_________________________________________________________________\n",
            "batch_normalization_7 (Batch (None, 27, 27, 384)       1536      \n",
            "_________________________________________________________________\n",
            "conv2d_8 (Conv2D)            (None, 27, 27, 384)       1327488   \n",
            "_________________________________________________________________\n",
            "batch_normalization_8 (Batch (None, 27, 27, 384)       1536      \n",
            "_________________________________________________________________\n",
            "conv2d_9 (Conv2D)            (None, 27, 27, 256)       884992    \n",
            "_________________________________________________________________\n",
            "batch_normalization_9 (Batch (None, 27, 27, 256)       1024      \n",
            "_________________________________________________________________\n",
            "max_pooling2d_3 (MaxPooling2 (None, 13, 13, 256)       0         \n",
            "_________________________________________________________________\n",
            "flatten_1 (Flatten)          (None, 43264)             0         \n",
            "_________________________________________________________________\n",
            "dense_3 (Dense)              (None, 4096)              177213440 \n",
            "_________________________________________________________________\n",
            "dense_4 (Dense)              (None, 4096)              16781312  \n",
            "_________________________________________________________________\n",
            "dense_5 (Dense)              (None, 2)                 8194      \n",
            "=================================================================\n",
            "Total params: 200,114,946\n",
            "Trainable params: 200,112,194\n",
            "Non-trainable params: 2,752\n",
            "_________________________________________________________________\n",
            "1/1 [==============================] - 3s 3s/step - loss: 1.1837 - accuracy: 0.5500\n",
            "accuracy:55.00%\n"
          ],
          "name": "stdout"
        }
      ]
    }
  ]
}